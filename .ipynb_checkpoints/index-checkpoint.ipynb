{
 "cells": [
  {
   "cell_type": "markdown",
   "metadata": {},
   "source": [
    "# The Poisson Distribution\n",
    "The poisson distribution has a special relation to the binomial distribution. The theoretical underpinnings are as follows. Imagine that we take a time period and break it into subintervals that are so small that at most one successful event could occur. We can then imagine that for any of these subintervals, a binomial distribution could apply where there is some probability of the event occuring p, a probability q=1-p that the event does not occur, and a probability of 0 that more then one event occurs. We assume that as we cut time into smaller and smaller intervals, the chance of a success should go down. If we take the limit of the binomial distribution as n goes to infinity (more and more subintervals that are progressively smaller), the result is the poisson distribution.\n",
    "\n",
    "Binomial Probability Distribution:  \n",
    "$p(y) = \\binom{n}{y}p^y(1-p)^{n-y}$\n",
    "  \n",
    "$\\lambda = n*p$  \n",
    "  \n",
    "Poisson Probability Distribution:\n",
    "$p(y) = \\frac{\\lambda^y}{y!}e^{-y}$\n",
    "  \n",
    "  \n",
    "Also note that labmda is the now the average number of successes that we anticipate in a given interval. (The probability p of success, times n the number of intervals.) This is then exactly how the poisson is used in practice, if I know the average number of occurences in a given interval, what is the probability that the actual number of occurences is slightly more, slightly less, far more or far less?"
   ]
  },
  {
   "cell_type": "markdown",
   "metadata": {},
   "source": [
    "# Poisson Function\n",
    "Write a function to calculate the probability that y events occur in a given interval given the average number of occurrences expected."
   ]
  },
  {
   "cell_type": "code",
   "execution_count": 2,
   "metadata": {},
   "outputs": [],
   "source": [
    "import numpy as np\n",
    "import math"
   ]
  },
  {
   "cell_type": "code",
   "execution_count": 25,
   "metadata": {},
   "outputs": [],
   "source": [
    "def poisson(y, mu):\n",
    "    \"\"\"mu (lambda above) is the average number of events in the given time interval.\n",
    "    You are calculating the probability that y events occur.\"\"\"\n",
    "    #Your code here\n",
    "    term1 = (mu**y)/(math.factorial(y))\n",
    "    term2 = np.e**(-mu)\n",
    "    prob = term1 * term2\n",
    "    return prob"
   ]
  },
  {
   "cell_type": "markdown",
   "metadata": {},
   "source": [
    "# Reinventing the Wheel\n",
    "Check that your poisson function above works by checking its output for 1000 examples against scipys built in function:  \n",
    "scipy.stats.distributions.poisson.pmf"
   ]
  },
  {
   "cell_type": "code",
   "execution_count": 20,
   "metadata": {},
   "outputs": [],
   "source": [
    "from scipy.stats.distributions import poisson as poisson2"
   ]
  },
  {
   "cell_type": "code",
   "execution_count": 43,
   "metadata": {},
   "outputs": [
    {
     "name": "stdout",
     "output_type": "stream",
     "text": [
      "All values roughly equal: True\n"
     ]
    }
   ],
   "source": [
    "#generate test cases, y slightly off (but always greater then zero)\n",
    "mus = [np.random.uniform(low=0.5,high=7) for i in range(1000)]\n",
    "test_cases = [(int(mu+np.random.uniform(low=-0.4, high=3)), mu) for mu in mus]\n",
    "\n",
    "custom = [poisson(test_case[0], test_case[1]) for test_case in test_cases]\n",
    "pre_built = [poisson2.pmf(test_case[0], test_case[1]) for test_case in test_cases]\n",
    "\n",
    "def equals(a,b, precision=10**-5):\n",
    "    if np.abs(a-b)<=precision:\n",
    "        return True\n",
    "    else:\n",
    "        return False\n",
    "\n",
    "print('All values roughly equal:', all([equals(a, b) for a,b in list(zip(custom,pre_built))]))"
   ]
  },
  {
   "cell_type": "markdown",
   "metadata": {},
   "source": [
    "# Mail\n",
    "Let's say on average, you receive 4 pieces of mail per day. Draw a graph with the x-axis pieces of mail (0-20) and the y-axis the probabilitiy that you receive that many pieces of mail on a given day."
   ]
  },
  {
   "cell_type": "code",
   "execution_count": 45,
   "metadata": {},
   "outputs": [],
   "source": [
    "import matplotlib.pyplot as plt\n",
    "%matplotlib inline"
   ]
  },
  {
   "cell_type": "code",
   "execution_count": 47,
   "metadata": {},
   "outputs": [
    {
     "data": {
      "text/plain": [
       "([<matplotlib.axis.XTick at 0x10bb36e10>,\n",
       "  <matplotlib.axis.XTick at 0x10bb36748>,\n",
       "  <matplotlib.axis.XTick at 0x10bb364a8>,\n",
       "  <matplotlib.axis.XTick at 0x10bbcf2b0>,\n",
       "  <matplotlib.axis.XTick at 0x10bbcf780>,\n",
       "  <matplotlib.axis.XTick at 0x10bbcfc50>,\n",
       "  <matplotlib.axis.XTick at 0x10bbd5198>,\n",
       "  <matplotlib.axis.XTick at 0x10bbd56a0>,\n",
       "  <matplotlib.axis.XTick at 0x10bbd5ba8>,\n",
       "  <matplotlib.axis.XTick at 0x10bbdd160>,\n",
       "  <matplotlib.axis.XTick at 0x10bbdd5f8>,\n",
       "  <matplotlib.axis.XTick at 0x10bbd54a8>,\n",
       "  <matplotlib.axis.XTick at 0x10bbcf860>,\n",
       "  <matplotlib.axis.XTick at 0x10bbdd5c0>,\n",
       "  <matplotlib.axis.XTick at 0x10bbdde80>,\n",
       "  <matplotlib.axis.XTick at 0x10bbe54e0>,\n",
       "  <matplotlib.axis.XTick at 0x10bbe59e8>,\n",
       "  <matplotlib.axis.XTick at 0x10bbe5ef0>,\n",
       "  <matplotlib.axis.XTick at 0x10bbee438>,\n",
       "  <matplotlib.axis.XTick at 0x10bbee940>,\n",
       "  <matplotlib.axis.XTick at 0x10bbeee48>],\n",
       " <a list of 21 Text xticklabel objects>)"
      ]
     },
     "execution_count": 47,
     "metadata": {},
     "output_type": "execute_result"
    },
    {
     "data": {
      "image/png": "[encoded data removed]",
      "text/plain": [
       "<Figure size 432x288 with 1 Axes>"
      ]
     },
     "metadata": {},
     "output_type": "display_data"
    }
   ],
   "source": [
    "#Your code here\n",
    "probs = [poisson(i, 4) for i in range(21)]\n",
    "plt.scatter(range(21), probs)\n",
    "plt.title('Probabilites of receiving X pieces of mail given an average of 4.')\n",
    "plt.xlabel('Pieces of Mail')\n",
    "plt.ylabel('Probability of Receiving that many pieces of mail')\n",
    "plt.xticks(range(21))"
   ]
  },
  {
   "cell_type": "markdown",
   "metadata": {},
   "source": [
    "# Home Runs\n",
    "https://www.teamrankings.com/mlb/stat/home-runs-per-game  \n",
    "  \n",
    "On average, the Yankees hit 1.47 home runs per game in 2017. What was the probability that they hit 2 home runs in a game? 3?"
   ]
  },
  {
   "cell_type": "code",
   "execution_count": 48,
   "metadata": {},
   "outputs": [
    {
     "name": "stdout",
     "output_type": "stream",
     "text": [
      "0.24842299046999577\n",
      "0.12172726533029794\n"
     ]
    }
   ],
   "source": [
    "#Your code/answer here\n",
    "print(poisson(2, 1.47))\n",
    "print(poisson(3, 1.47))"
   ]
  },
  {
   "cell_type": "markdown",
   "metadata": {},
   "source": [
    "# Home Runs 2\n",
    "In the same year, the Red Sox only had 1.04 home runs per game in 2017. What was the probability that they hit 2 home runs in a game? 3?"
   ]
  },
  {
   "cell_type": "code",
   "execution_count": 49,
   "metadata": {},
   "outputs": [
    {
     "name": "stdout",
     "output_type": "stream",
     "text": [
      "0.19114829200330832\n",
      "0.06626474122781356\n"
     ]
    }
   ],
   "source": [
    "#Your code/answer here\n",
    "print(poisson(2, 1.04))\n",
    "print(poisson(3, 1.04))"
   ]
  },
  {
   "cell_type": "markdown",
   "metadata": {},
   "source": [
    "# Product Failures\n",
    "Airplane tires need replacement after about 1500 flights. Let's assume that on an average day, an airline has to replace 2.34 tires per day. If you want to have a 95% confidence that you'll have enough tires for needed repairs, how many should be on stock? (We want to have enough, but storing tires is also expensive!)"
   ]
  },
  {
   "cell_type": "code",
   "execution_count": 50,
   "metadata": {},
   "outputs": [
    {
     "name": "stdout",
     "output_type": "stream",
     "text": [
      "Chance of 0 tires being replaced: 0.09632763823049305. Cumulative probability: 0.09632763823049305\n",
      "Chance of 1 tires being replaced: 0.22540667345935372. Cumulative probability: 0.3217343116898468\n",
      "Chance of 2 tires being replaced: 0.2637258079474438. Cumulative probability: 0.5854601196372906\n",
      "Chance of 3 tires being replaced: 0.20570613019900616. Cumulative probability: 0.7911662498362968\n",
      "Chance of 4 tires being replaced: 0.1203380861664186. Cumulative probability: 0.9115043360027154\n",
      "Chance of 5 tires being replaced: 0.056318224325883896. Cumulative probability: 0.9678225603285993\n",
      "With 5 tires, you have a 0.9678225603285993 chance of being covered.\n"
     ]
    }
   ],
   "source": [
    "#Your code/answer here\n",
    "cum_sum = 0\n",
    "tires_needed = 0\n",
    "while cum_sum < .95:\n",
    "    prob = poisson(tires_needed, 2.34) #chance_of_this_many_tires_needed\n",
    "    cum_sum += prob\n",
    "    print('Chance of {} tires being replaced: {}. Cumulative probability: {}'. format(tires_needed, prob, cum_sum))\n",
    "    tires_needed +=1\n",
    "print('With {} tires, you have a {} chance of being covered.'.format(tires_needed-1, cum_sum))"
   ]
  },
  {
   "cell_type": "markdown",
   "metadata": {},
   "source": [
    "# Product Failures 2\n",
    "How many tires do you need on stock to have a 99% confidence that you'll have enough in stock? 99.9% confidence?"
   ]
  },
  {
   "cell_type": "code",
   "execution_count": 52,
   "metadata": {},
   "outputs": [
    {
     "name": "stdout",
     "output_type": "stream",
     "text": [
      "Chance of 0 tires being replaced: 0.09632763823049305. Cumulative probability: 0.09632763823049305\n",
      "Chance of 1 tires being replaced: 0.22540667345935372. Cumulative probability: 0.3217343116898468\n",
      "Chance of 2 tires being replaced: 0.2637258079474438. Cumulative probability: 0.5854601196372906\n",
      "Chance of 3 tires being replaced: 0.20570613019900616. Cumulative probability: 0.7911662498362968\n",
      "Chance of 4 tires being replaced: 0.1203380861664186. Cumulative probability: 0.9115043360027154\n",
      "Chance of 5 tires being replaced: 0.056318224325883896. Cumulative probability: 0.9678225603285993\n",
      "Chance of 6 tires being replaced: 0.021964107487094722. Cumulative probability: 0.989786667815694\n",
      "Chance of 7 tires being replaced: 0.007342287359971665. Cumulative probability: 0.9971289551756657\n",
      "With 7 tires, you have a 0.9971289551756657 chance of being covered.\n",
      "\n",
      "\n",
      "\n",
      "Chance of 0 tires being replaced: 0.09632763823049305. Cumulative probability: 0.09632763823049305\n",
      "Chance of 1 tires being replaced: 0.22540667345935372. Cumulative probability: 0.3217343116898468\n",
      "Chance of 2 tires being replaced: 0.2637258079474438. Cumulative probability: 0.5854601196372906\n",
      "Chance of 3 tires being replaced: 0.20570613019900616. Cumulative probability: 0.7911662498362968\n",
      "Chance of 4 tires being replaced: 0.1203380861664186. Cumulative probability: 0.9115043360027154\n",
      "Chance of 5 tires being replaced: 0.056318224325883896. Cumulative probability: 0.9678225603285993\n",
      "Chance of 6 tires being replaced: 0.021964107487094722. Cumulative probability: 0.989786667815694\n",
      "Chance of 7 tires being replaced: 0.007342287359971665. Cumulative probability: 0.9971289551756657\n",
      "Chance of 8 tires being replaced: 0.0021476190527917115. Cumulative probability: 0.9992765742284574\n",
      "With 8 tires, you have a 0.9992765742284574 chance of being covered.\n"
     ]
    }
   ],
   "source": [
    "#Your code/answer here\n",
    "#Your code/answer here\n",
    "cum_sum = 0\n",
    "tires_needed = 0\n",
    "while cum_sum < .99:\n",
    "    prob = poisson(tires_needed, 2.34) #chance_of_this_many_tires_needed\n",
    "    cum_sum += prob\n",
    "    print('Chance of {} tires being replaced: {}. Cumulative probability: {}'. format(tires_needed, prob, cum_sum))\n",
    "    tires_needed +=1\n",
    "print('With {} tires, you have a {} chance of being covered.'.format(tires_needed-1, cum_sum))\n",
    "\n",
    "print('\\n\\n')\n",
    "\n",
    "#Your code/answer here\n",
    "cum_sum = 0\n",
    "tires_needed = 0\n",
    "while cum_sum < .999:\n",
    "    prob = poisson(tires_needed, 2.34) #chance_of_this_many_tires_needed\n",
    "    cum_sum += prob\n",
    "    print('Chance of {} tires being replaced: {}. Cumulative probability: {}'. format(tires_needed, prob, cum_sum))\n",
    "    tires_needed +=1\n",
    "print('With {} tires, you have a {} chance of being covered.'.format(tires_needed-1, cum_sum))"
   ]
  },
  {
   "cell_type": "code",
   "execution_count": null,
   "metadata": {},
   "outputs": [],
   "source": []
  }
 ],
 "metadata": {
  "kernelspec": {
   "display_name": "Python 3",
   "language": "python",
   "name": "python3"
  },
  "language_info": {
   "codemirror_mode": {
    "name": "ipython",
    "version": 3
   },
   "file_extension": ".py",
   "mimetype": "text/x-python",
   "name": "python",
   "nbconvert_exporter": "python",
   "pygments_lexer": "ipython3",
   "version": "3.6.5"
  }
 },
 "nbformat": 4,
 "nbformat_minor": 2
}
